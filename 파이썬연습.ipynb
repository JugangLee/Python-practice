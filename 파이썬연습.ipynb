{
  "nbformat": 4,
  "nbformat_minor": 0,
  "metadata": {
    "colab": {
      "name": "파이썬연습.ipynb",
      "provenance": [],
      "collapsed_sections": []
    },
    "kernelspec": {
      "name": "python3",
      "display_name": "Python 3"
    },
    "language_info": {
      "name": "python"
    }
  },
  "cells": [
    {
      "cell_type": "code",
      "metadata": {
        "id": "vIVYXzOpD97v"
      },
      "source": [
        "## 자료구조"
      ],
      "execution_count": null,
      "outputs": []
    },
    {
      "cell_type": "code",
      "metadata": {
        "id": "gbN-eUvJD-7r"
      },
      "source": [
        "x = [1,2,3]"
      ],
      "execution_count": null,
      "outputs": []
    },
    {
      "cell_type": "code",
      "metadata": {
        "id": "4KWT9TCNEB-D"
      },
      "source": [
        "y=x.copy()"
      ],
      "execution_count": null,
      "outputs": []
    },
    {
      "cell_type": "code",
      "metadata": {
        "colab": {
          "base_uri": "https://localhost:8080/"
        },
        "id": "JkA1QWy3EDFV",
        "outputId": "0738829d-1789-4d57-e95e-47e49ed46dce"
      },
      "source": [
        "print(x)"
      ],
      "execution_count": null,
      "outputs": [
        {
          "output_type": "stream",
          "name": "stdout",
          "text": [
            "[1, 2, 3]\n"
          ]
        }
      ]
    },
    {
      "cell_type": "code",
      "metadata": {
        "colab": {
          "base_uri": "https://localhost:8080/"
        },
        "id": "To7aMKbsEEX9",
        "outputId": "9c84ffc2-badc-4168-90bd-664682009274"
      },
      "source": [
        "print(y)"
      ],
      "execution_count": null,
      "outputs": [
        {
          "output_type": "stream",
          "name": "stdout",
          "text": [
            "[1, 2, 3]\n"
          ]
        }
      ]
    },
    {
      "cell_type": "code",
      "metadata": {
        "id": "WBKfEB6YEE5y"
      },
      "source": [
        "y.append(4)"
      ],
      "execution_count": null,
      "outputs": []
    },
    {
      "cell_type": "code",
      "metadata": {
        "id": "baSvFG8XEGY6",
        "colab": {
          "base_uri": "https://localhost:8080/"
        },
        "outputId": "34684147-4444-43e7-83e6-a1ac7190ec4c"
      },
      "source": [
        "print(y)"
      ],
      "execution_count": null,
      "outputs": [
        {
          "output_type": "stream",
          "name": "stdout",
          "text": [
            "[1, 2, 3, 4]\n"
          ]
        }
      ]
    },
    {
      "cell_type": "code",
      "metadata": {
        "id": "w8E7dopFEHwn",
        "colab": {
          "base_uri": "https://localhost:8080/"
        },
        "outputId": "6d88b819-ad3b-4ccc-adae-3be255e8515f"
      },
      "source": [
        "print(x)"
      ],
      "execution_count": null,
      "outputs": [
        {
          "output_type": "stream",
          "name": "stdout",
          "text": [
            "[1, 2, 3]\n"
          ]
        }
      ]
    },
    {
      "cell_type": "code",
      "metadata": {
        "id": "7Q4TMl5qEI8-"
      },
      "source": [
        "### 자료구조 Queue "
      ],
      "execution_count": null,
      "outputs": []
    },
    {
      "cell_type": "code",
      "metadata": {
        "colab": {
          "base_uri": "https://localhost:8080/"
        },
        "id": "c8ZdYw8ZfuKS",
        "outputId": "19177097-fc60-4b32-a784-2b647ef66ba5"
      },
      "source": [
        "queue = [4,5,6]\n",
        "queue.append(7)\n",
        "queue.append(8)\n",
        "queue"
      ],
      "execution_count": null,
      "outputs": [
        {
          "output_type": "execute_result",
          "data": {
            "text/plain": [
              "[4, 5, 6, 7, 8]"
            ]
          },
          "metadata": {},
          "execution_count": 5
        }
      ]
    },
    {
      "cell_type": "code",
      "metadata": {
        "colab": {
          "base_uri": "https://localhost:8080/"
        },
        "id": "Aec3VE5vf4fZ",
        "outputId": "5f628389-987d-4c21-8e2a-aa102ca57a5a"
      },
      "source": [
        "queue.pop(0) # 첫번째 데이터가 제거됨. 아래에는 제거된 데이터가 표시됨"
      ],
      "execution_count": null,
      "outputs": [
        {
          "output_type": "execute_result",
          "data": {
            "text/plain": [
              "4"
            ]
          },
          "metadata": {},
          "execution_count": 6
        }
      ]
    },
    {
      "cell_type": "code",
      "metadata": {
        "colab": {
          "base_uri": "https://localhost:8080/"
        },
        "id": "pc_uP_6-gFvz",
        "outputId": "7d59101f-cb53-485c-ef7a-670913ee1604"
      },
      "source": [
        "queue.pop(0)"
      ],
      "execution_count": null,
      "outputs": [
        {
          "output_type": "execute_result",
          "data": {
            "text/plain": [
              "5"
            ]
          },
          "metadata": {},
          "execution_count": 7
        }
      ]
    },
    {
      "cell_type": "code",
      "metadata": {
        "colab": {
          "base_uri": "https://localhost:8080/"
        },
        "id": "CGcujWsmgH3o",
        "outputId": "fc714d4d-7db4-4fee-8f61-030dcf7edc95"
      },
      "source": [
        "queue"
      ],
      "execution_count": null,
      "outputs": [
        {
          "output_type": "execute_result",
          "data": {
            "text/plain": [
              "[6, 7, 8]"
            ]
          },
          "metadata": {},
          "execution_count": 8
        }
      ]
    },
    {
      "cell_type": "code",
      "metadata": {
        "id": "lA5j1e5BgUEZ"
      },
      "source": [
        "## insert(0,x) 함수를 사용하면 맨앞에서 데이터를 삽입할 수도 있음\n",
        "\n",
        "queue.insert(0,5)\n",
        "queue.insert(0,4)"
      ],
      "execution_count": null,
      "outputs": []
    },
    {
      "cell_type": "code",
      "metadata": {
        "colab": {
          "base_uri": "https://localhost:8080/"
        },
        "id": "RC19pvhBj8rB",
        "outputId": "f278933d-1768-4ebf-c723-c9b9cda26614"
      },
      "source": [
        "queue\n",
        "  "
      ],
      "execution_count": null,
      "outputs": [
        {
          "output_type": "execute_result",
          "data": {
            "text/plain": [
              "[4, 5, 6, 7, 8]"
            ]
          },
          "metadata": {},
          "execution_count": 10
        }
      ]
    },
    {
      "cell_type": "code",
      "metadata": {
        "id": "m4HhYz8Tj9pJ"
      },
      "source": [
        "## 하지만 list는 다른 언어의 배열처럼 무작위접근(random access)에 최적화된 자료구조이기 때문에\n",
        "## pop(0) 또는 insert(0,x)는 매우 불리한 연산이라고 함\n",
        "## 첫번째 데이터를 제거하거나 추가하면 뒤에 있는 모든 데이터가 이동해야하므로 데이터가 많아질수록 속도가 느려지는 한계점 존재\n"
      ],
      "execution_count": null,
      "outputs": []
    },
    {
      "cell_type": "code",
      "metadata": {
        "colab": {
          "base_uri": "https://localhost:8080/"
        },
        "id": "6TYsTQi1lKyn",
        "outputId": "2020341b-13af-438b-adcd-54bd9b2c61f4"
      },
      "source": [
        "## collections 모듈의 deque는 double-ended queue의 약자로 데이터를 양방향에서 추가하고 제거할 수 있는 자료 구조\n",
        "\n",
        "from collections import deque\n",
        "\n",
        "queue =  deque([4,5,6])\n",
        "queue.append(7)\n",
        "queue.append(8)\n",
        "queue"
      ],
      "execution_count": null,
      "outputs": [
        {
          "output_type": "execute_result",
          "data": {
            "text/plain": [
              "deque([4, 5, 6, 7, 8])"
            ]
          },
          "metadata": {},
          "execution_count": 12
        }
      ]
    },
    {
      "cell_type": "code",
      "metadata": {
        "colab": {
          "base_uri": "https://localhost:8080/"
        },
        "id": "gsyrOWqtmnbe",
        "outputId": "4c7a0efa-a3fd-4022-f907-6607c79cef12"
      },
      "source": [
        "queue.popleft()"
      ],
      "execution_count": null,
      "outputs": [
        {
          "output_type": "execute_result",
          "data": {
            "text/plain": [
              "4"
            ]
          },
          "metadata": {},
          "execution_count": 14
        }
      ]
    },
    {
      "cell_type": "code",
      "metadata": {
        "colab": {
          "base_uri": "https://localhost:8080/"
        },
        "id": "GjTHhVKNmq3z",
        "outputId": "de9a5895-3a39-4da4-a03f-7fb4074fef8b"
      },
      "source": [
        "queue.popleft()"
      ],
      "execution_count": null,
      "outputs": [
        {
          "output_type": "execute_result",
          "data": {
            "text/plain": [
              "5"
            ]
          },
          "metadata": {},
          "execution_count": 15
        }
      ]
    },
    {
      "cell_type": "code",
      "metadata": {
        "colab": {
          "base_uri": "https://localhost:8080/"
        },
        "id": "gowiWNNmmumW",
        "outputId": "c6a470a0-f2ef-4181-bc65-d3672f2be21e"
      },
      "source": [
        "queue"
      ],
      "execution_count": null,
      "outputs": [
        {
          "output_type": "execute_result",
          "data": {
            "text/plain": [
              "deque([6, 7, 8])"
            ]
          },
          "metadata": {},
          "execution_count": 16
        }
      ]
    },
    {
      "cell_type": "code",
      "metadata": {
        "id": "5bPXQgobmwcL"
      },
      "source": [
        "## 그냥 리스트를 써서 양쪽에서 push, pop하는 것보다 deque를 사용하는 게 바람직하겠다."
      ],
      "execution_count": null,
      "outputs": []
    },
    {
      "cell_type": "code",
      "metadata": {
        "id": "wcIoTUWQnNFP"
      },
      "source": [
        "class Queue :\n",
        "\tdef __init__(self) :\n",
        "\t\tself.list = []\n",
        "\t\tself.num_of_list = 0\n",
        "\n",
        "\tdef insert(self, variable) :\n",
        "\t\tself.list.append(variable)\n",
        "\t\tself.num_of_list += 1\n",
        "\n",
        "\tdef pop(self) :\n",
        "\t\tif self.num_of_list == 0 :\n",
        "\t\t\tprint('더 이상 뺄 수 없습니다.')\n",
        "\t\telse :\n",
        "\t\t\tself.list.pop(0)\n",
        "\t\t\tself.num_of_list -= 1\n",
        "\n",
        "\tdef count(self) :\n",
        "\t\tprint('count = ', self.num_of_list)\n",
        "\t\tprint()\n",
        "\t\treturn self.num_of_list\n",
        "\n",
        "\tdef clear(self) :\n",
        "\t\tself.list.clear()\n",
        "\t\tself.num_of_list = 0\n",
        "\n",
        "\tdef print(self) :\n",
        "\t\tfor i in self.list :\n",
        "\t\t\tprint(i, ' ', end='')\n",
        "\t\tprint()"
      ],
      "execution_count": null,
      "outputs": []
    },
    {
      "cell_type": "code",
      "metadata": {
        "id": "7VKmN2YjojTD"
      },
      "source": [
        "### 클래스"
      ],
      "execution_count": null,
      "outputs": []
    },
    {
      "cell_type": "code",
      "metadata": {
        "id": "4vejp1pPsjHA"
      },
      "source": [
        "class JSS:\n",
        "  def __init__(self):\n",
        "    self.name = input(\"이름 : \")\n",
        "    self.age = input(\"나이 : \")\n",
        "    print(\"JSS 클래스 선언!\")\n",
        "  def show(self):\n",
        "      print(\"나의 이름은 {}, 나이는 {}세입니다.\".format(self.name, self.age))\n",
        "\n",
        "  ## self는 클래스를 저장할 변수\n",
        "  ## self는 a에 해당함 ex) a.show() / a.age()"
      ],
      "execution_count": null,
      "outputs": []
    },
    {
      "cell_type": "code",
      "metadata": {
        "colab": {
          "base_uri": "https://localhost:8080/"
        },
        "id": "SqwNF9FPt0wG",
        "outputId": "ca4bbbbb-163e-4988-868c-189b76050929"
      },
      "source": [
        "a = JSS()"
      ],
      "execution_count": null,
      "outputs": [
        {
          "output_type": "stream",
          "name": "stdout",
          "text": [
            "이름 : 이주경\n",
            "나이 : 25\n",
            "JSS 클래스 선언!\n"
          ]
        }
      ]
    },
    {
      "cell_type": "code",
      "metadata": {
        "colab": {
          "base_uri": "https://localhost:8080/"
        },
        "id": "nuEaqi5tt_lC",
        "outputId": "d6add7f1-86cc-426a-f610-5c41a31221b7"
      },
      "source": [
        "a.show()"
      ],
      "execution_count": null,
      "outputs": [
        {
          "output_type": "stream",
          "name": "stdout",
          "text": [
            "나의 이름은 이주경, 나이는 25세입니다.\n"
          ]
        }
      ]
    },
    {
      "cell_type": "code",
      "metadata": {
        "id": "UgLEqk9qs8WV"
      },
      "source": [
        "class JSS2(JSS):      ##상속을 의미\n",
        "  def __init__(self):\n",
        "    super().__init__() ## 그대로 위 내용이 들어옴\n",
        "    self.gender = input(\"성별:\")\n",
        "  def show(self):\n",
        "      print(\"나의 이름은 {}, 성별은 {}자, 나이는 {}세입니다.\".format(self.name, self.gender, self.age))\n",
        "\n",
        "\n",
        "## https://www.youtube.com/watch?v=uIcK7-YU8uA Class 만드는거 정말 재밌네 ㅎㅎ"
      ],
      "execution_count": null,
      "outputs": []
    },
    {
      "cell_type": "code",
      "metadata": {
        "colab": {
          "base_uri": "https://localhost:8080/"
        },
        "id": "a3BFS33es6Cz",
        "outputId": "7ce7053d-8e88-45bc-d045-f06c44b8b8f6"
      },
      "source": [
        "a = JSS2()"
      ],
      "execution_count": null,
      "outputs": [
        {
          "name": "stdout",
          "output_type": "stream",
          "text": [
            "이름 : 이주경\n",
            "나이 : 25\n",
            "JSS 클래스 선언!\n",
            "성별:남\n"
          ]
        }
      ]
    },
    {
      "cell_type": "code",
      "metadata": {
        "colab": {
          "base_uri": "https://localhost:8080/"
        },
        "id": "uqFuZ1s3swv9",
        "outputId": "e7722884-7267-48cb-8f42-c8c57260c4d4"
      },
      "source": [
        "a.show()"
      ],
      "execution_count": null,
      "outputs": [
        {
          "output_type": "stream",
          "name": "stdout",
          "text": [
            "나의 이름은 이주경, 성별은 남자, 나이는 25세입니다.\n"
          ]
        }
      ]
    },
    {
      "cell_type": "code",
      "metadata": {
        "colab": {
          "base_uri": "https://localhost:8080/",
          "height": 172
        },
        "id": "L2dqxq2tsrwY",
        "outputId": "d80814c0-506a-4da9-fa9c-dbde700508b2"
      },
      "source": [
        ""
      ],
      "execution_count": null,
      "outputs": [
        {
          "output_type": "error",
          "ename": "AttributeError",
          "evalue": "ignored",
          "traceback": [
            "\u001b[0;31m---------------------------------------------------------------------------\u001b[0m",
            "\u001b[0;31mAttributeError\u001b[0m                            Traceback (most recent call last)",
            "\u001b[0;32m<ipython-input-29-97d3136b2c17>\u001b[0m in \u001b[0;36m<module>\u001b[0;34m()\u001b[0m\n\u001b[0;32m----> 1\u001b[0;31m \u001b[0ma\u001b[0m\u001b[0;34m.\u001b[0m\u001b[0mshow\u001b[0m\u001b[0;34m(\u001b[0m\u001b[0;34m)\u001b[0m\u001b[0;34m\u001b[0m\u001b[0;34m\u001b[0m\u001b[0m\n\u001b[0m",
            "\u001b[0;31mAttributeError\u001b[0m: 'JSS' object has no attribute 'show'"
          ]
        }
      ]
    },
    {
      "cell_type": "code",
      "metadata": {
        "id": "1uQXqKnosub6"
      },
      "source": [
        "### 파이썬"
      ],
      "execution_count": null,
      "outputs": []
    },
    {
      "cell_type": "code",
      "source": [
        "my_list = [10, 'hello list', 20]\n",
        "print(my_list[1])"
      ],
      "metadata": {
        "colab": {
          "base_uri": "https://localhost:8080/"
        },
        "id": "4E0gA3a4mHRg",
        "outputId": "9fe4fc36-d181-4cc2-fdad-af71e3edd91b"
      },
      "execution_count": null,
      "outputs": [
        {
          "output_type": "stream",
          "name": "stdout",
          "text": [
            "hello list\n"
          ]
        }
      ]
    },
    {
      "cell_type": "code",
      "source": [
        "my_list2 = [[10,20,30],[40,50,60]]\n",
        "print(my_list2)"
      ],
      "metadata": {
        "colab": {
          "base_uri": "https://localhost:8080/"
        },
        "id": "e24WdJesmWSm",
        "outputId": "01885d93-fb6c-48fa-9e29-94bb3252d624"
      },
      "execution_count": null,
      "outputs": [
        {
          "output_type": "stream",
          "name": "stdout",
          "text": [
            "[[10, 20, 30], [40, 50, 60]]\n"
          ]
        }
      ]
    },
    {
      "cell_type": "code",
      "source": [
        "print(my_list2[1][1])"
      ],
      "metadata": {
        "colab": {
          "base_uri": "https://localhost:8080/"
        },
        "id": "J9rgbkVsmcdL",
        "outputId": "1c348fad-6edd-417f-9d8f-2dc0790464f7"
      },
      "execution_count": null,
      "outputs": [
        {
          "output_type": "stream",
          "name": "stdout",
          "text": [
            "50\n"
          ]
        }
      ]
    },
    {
      "cell_type": "code",
      "source": [
        "import numpy as np\n",
        "print(np.__version__)"
      ],
      "metadata": {
        "colab": {
          "base_uri": "https://localhost:8080/"
        },
        "id": "Lg72kzEHmmwB",
        "outputId": "5e12e080-6070-41ed-d67e-c486bf4037ae"
      },
      "execution_count": null,
      "outputs": [
        {
          "output_type": "stream",
          "name": "stdout",
          "text": [
            "1.19.5\n"
          ]
        }
      ]
    },
    {
      "cell_type": "code",
      "source": [
        "my_arr = np.array([[10,20,30],[40,50,60]])\n",
        "print(my_arr)\n",
        "type(my_arr)"
      ],
      "metadata": {
        "colab": {
          "base_uri": "https://localhost:8080/"
        },
        "id": "tcp-gtkrnXKx",
        "outputId": "32ff3bc9-b6fc-4a16-ff93-cd06acb7b134"
      },
      "execution_count": null,
      "outputs": [
        {
          "output_type": "stream",
          "name": "stdout",
          "text": [
            "[[10 20 30]\n",
            " [40 50 60]]\n"
          ]
        },
        {
          "output_type": "execute_result",
          "data": {
            "text/plain": [
              "numpy.ndarray"
            ]
          },
          "metadata": {},
          "execution_count": 13
        }
      ]
    },
    {
      "cell_type": "code",
      "source": [
        "my_arr[0][2]"
      ],
      "metadata": {
        "colab": {
          "base_uri": "https://localhost:8080/"
        },
        "id": "ZplB3ReFnrsK",
        "outputId": "57d13859-d90c-41e7-d7d9-e047084af0b8"
      },
      "execution_count": null,
      "outputs": [
        {
          "output_type": "execute_result",
          "data": {
            "text/plain": [
              "30"
            ]
          },
          "metadata": {},
          "execution_count": 14
        }
      ]
    },
    {
      "cell_type": "code",
      "source": [
        "np.sum(my_arr)"
      ],
      "metadata": {
        "colab": {
          "base_uri": "https://localhost:8080/"
        },
        "id": "O7FPwSWeogB-",
        "outputId": "fb86cbb9-6073-44f1-e330-c5a23417b8a7"
      },
      "execution_count": null,
      "outputs": [
        {
          "output_type": "execute_result",
          "data": {
            "text/plain": [
              "210"
            ]
          },
          "metadata": {},
          "execution_count": 15
        }
      ]
    },
    {
      "cell_type": "code",
      "source": [
        "import matplotlib.pyplot as plt ## 그래프그리기"
      ],
      "metadata": {
        "id": "x3RagAs6oos7"
      },
      "execution_count": null,
      "outputs": []
    },
    {
      "cell_type": "code",
      "source": [
        "plt.plot([1,2,3,4,5],[1,4,9,16,25])\n",
        "plt.show()"
      ],
      "metadata": {
        "colab": {
          "base_uri": "https://localhost:8080/",
          "height": 265
        },
        "id": "HSILS5FJotQJ",
        "outputId": "de402a03-e257-4bb1-d3b6-403846149740"
      },
      "execution_count": null,
      "outputs": [
        {
          "output_type": "display_data",
          "data": {
            "image/png": "[encoded data removed]",
            "text/plain": [
              "<Figure size 432x288 with 1 Axes>"
            ]
          },
          "metadata": {
            "needs_background": "light"
          }
        }
      ]
    },
    {
      "cell_type": "code",
      "source": [
        "plt.scatter([1,2,3,4,5],[1,4,9,16,25])\n",
        "plt.show()"
      ],
      "metadata": {
        "colab": {
          "base_uri": "https://localhost:8080/",
          "height": 265
        },
        "id": "_vNEfDeCpRe0",
        "outputId": "7f78c3d6-c913-4a2f-c810-47da42ee1866"
      },
      "execution_count": null,
      "outputs": [
        {
          "output_type": "display_data",
          "data": {
            "image/png": "[encoded data removed]",
            "text/plain": [
              "<Figure size 432x288 with 1 Axes>"
            ]
          },
          "metadata": {
            "needs_background": "light"
          }
        }
      ]
    },
    {
      "cell_type": "code",
      "source": [
        "x = np.random.randn(1000) # 표준 정규 분포를 따르는 난수 1000개\n",
        "y = np.random.randn(1000)\n",
        "plt.scatter(x,y)\n",
        "plt.show()"
      ],
      "metadata": {
        "colab": {
          "base_uri": "https://localhost:8080/",
          "height": 265
        },
        "id": "vEY5ulwNpfaO",
        "outputId": "eb8858a6-eda5-4e42-86ca-a90d82e6a443"
      },
      "execution_count": null,
      "outputs": [
        {
          "output_type": "display_data",
          "data": {
            "image/png": "[encoded data removed]",
            "text/plain": [
              "<Figure size 432x288 with 1 Axes>"
            ]
          },
          "metadata": {
            "needs_background": "light"
          }
        }
      ]
    },
    {
      "cell_type": "code",
      "source": [
        "from sklearn.datasets import load_diabetes\n",
        "diabetes = load_diabetes() # diabetes에 당뇨병데이터 저장"
      ],
      "metadata": {
        "id": "f1j3p7V9pp1Z"
      },
      "execution_count": null,
      "outputs": []
    },
    {
      "cell_type": "code",
      "source": [
        "print(diabetes.data.shape, diabetes.target.shape)\n",
        "# diabetes 속성 중 data 속성과 target 속성에는 입력, 타겟 데이터가 넘파이 배열로 저장돼 있음"
      ],
      "metadata": {
        "colab": {
          "base_uri": "https://localhost:8080/"
        },
        "id": "WCrBlEMNq81H",
        "outputId": "fa517401-11ff-4c11-efa6-8bbc805c59e3"
      },
      "execution_count": null,
      "outputs": [
        {
          "output_type": "stream",
          "name": "stdout",
          "text": [
            "(442, 10) (442,)\n"
          ]
        }
      ]
    },
    {
      "cell_type": "code",
      "source": [
        "diabetes.data[0:3]\n",
        "# 입력데이터 앞부분 샘플 3개 출력하기"
      ],
      "metadata": {
        "colab": {
          "base_uri": "https://localhost:8080/"
        },
        "id": "H2lp9f_7re2z",
        "outputId": "d7833c00-6f2b-48aa-ddb8-87f6916f3b8a"
      },
      "execution_count": null,
      "outputs": [
        {
          "output_type": "execute_result",
          "data": {
            "text/plain": [
              "array([[ 0.03807591,  0.05068012,  0.06169621,  0.02187235, -0.0442235 ,\n",
              "        -0.03482076, -0.04340085, -0.00259226,  0.01990842, -0.01764613],\n",
              "       [-0.00188202, -0.04464164, -0.05147406, -0.02632783, -0.00844872,\n",
              "        -0.01916334,  0.07441156, -0.03949338, -0.06832974, -0.09220405],\n",
              "       [ 0.08529891,  0.05068012,  0.04445121, -0.00567061, -0.04559945,\n",
              "        -0.03419447, -0.03235593, -0.00259226,  0.00286377, -0.02593034]])"
            ]
          },
          "metadata": {},
          "execution_count": 26
        }
      ]
    },
    {
      "cell_type": "code",
      "source": [
        "diabetes.target[:3]\n",
        "# 타겟데이터 앞부분 샘플 3개 출력하기"
      ],
      "metadata": {
        "colab": {
          "base_uri": "https://localhost:8080/"
        },
        "id": "aT_t5KwMsBc1",
        "outputId": "077083fc-d06c-4cb3-d3d4-dd8187753a0b"
      },
      "execution_count": null,
      "outputs": [
        {
          "output_type": "execute_result",
          "data": {
            "text/plain": [
              "array([151.,  75., 141.])"
            ]
          },
          "metadata": {},
          "execution_count": 28
        }
      ]
    },
    {
      "cell_type": "code",
      "source": [
        "import matplotlib.pyplot as plt\n",
        "plt.scatter(diabetes.data[:,2], diabetes.target)\n",
        "##### ,2의 의미가 궁금. 0,1,2 세번째특성을 의미하는건가?\n",
        "plt.xlabel('x') # xlabel과 ylabel은 이름지정 함수\n",
        "plt.ylabel('y')\n",
        "plt.show()"
      ],
      "metadata": {
        "colab": {
          "base_uri": "https://localhost:8080/",
          "height": 279
        },
        "id": "ZIcOJomssZBR",
        "outputId": "6af9c56a-1a6d-403b-99c0-1464c2fa8a07"
      },
      "execution_count": null,
      "outputs": [
        {
          "output_type": "display_data",
          "data": {
            "image/png": "[encoded data removed]",
            "text/plain": [
              "<Figure size 432x288 with 1 Axes>"
            ]
          },
          "metadata": {
            "needs_background": "light"
          }
        }
      ]
    },
    {
      "cell_type": "code",
      "source": [
        "w = 1.0\n",
        "b = 1.0\n",
        "\n",
        "y_hat = x[0]*w + b\n",
        "print(y_hat)\n",
        "\n",
        "## x[0]은 훈련데이터 첫번째 샘플을 의미\n",
        "\n"
      ],
      "metadata": {
        "colab": {
          "base_uri": "https://localhost:8080/"
        },
        "id": "2Hi-lC4bthTF",
        "outputId": "940e1b47-2e10-479e-8e21-c1a510128478"
      },
      "execution_count": null,
      "outputs": [
        {
          "output_type": "stream",
          "name": "stdout",
          "text": [
            "1.953875694290768\n"
          ]
        }
      ]
    },
    {
      "cell_type": "code",
      "source": [
        "print(y[0])\n",
        "\n",
        "## 첫번째 샘플 x[0]에 대응하는 타겟값 y[0] 출력"
      ],
      "metadata": {
        "colab": {
          "base_uri": "https://localhost:8080/"
        },
        "id": "7R8YbDOwxUmo",
        "outputId": "2402ee8d-7828-45e1-ee7b-11bb6d1f2843"
      },
      "execution_count": null,
      "outputs": [
        {
          "output_type": "stream",
          "name": "stdout",
          "text": [
            "-0.6333988906004197\n"
          ]
        }
      ]
    },
    {
      "cell_type": "code",
      "source": [
        "w_inc = w + 0.1\n",
        "y_hat_inc = x[0]* w_inc + b\n",
        "print(y_hat_inc)"
      ],
      "metadata": {
        "colab": {
          "base_uri": "https://localhost:8080/"
        },
        "id": "I5phJHsxxza7",
        "outputId": "ef0d0382-b5d4-4440-a90e-446654b55b79"
      },
      "execution_count": null,
      "outputs": [
        {
          "output_type": "stream",
          "name": "stdout",
          "text": [
            "2.049263263719845\n"
          ]
        }
      ]
    },
    {
      "cell_type": "code",
      "source": [
        "w_rate = (y_hat_inc - y_hat) / (w_inc - w)\n",
        "print(w_rate)\n",
        "\n",
        "## w가 0.1만큼 증가했을때 y_hat의 얼마나 증가했는지"
      ],
      "metadata": {
        "colab": {
          "base_uri": "https://localhost:8080/"
        },
        "id": "BxvyGzHFyJuc",
        "outputId": "e4aa19eb-a1b5-4f7f-df53-b865467effe1"
      },
      "execution_count": null,
      "outputs": [
        {
          "output_type": "stream",
          "name": "stdout",
          "text": [
            "0.953875694290768\n"
          ]
        }
      ]
    },
    {
      "cell_type": "code",
      "source": [
        "w_new = w + w_rate  ## 가중치 업데이트\n",
        "print(w_new)"
      ],
      "metadata": {
        "colab": {
          "base_uri": "https://localhost:8080/"
        },
        "id": "3JB87WoDyWFm",
        "outputId": "df2dddb2-ba46-4950-cd19-cbf2358f31ce"
      },
      "execution_count": null,
      "outputs": [
        {
          "output_type": "stream",
          "name": "stdout",
          "text": [
            "1.953875694290768\n"
          ]
        }
      ]
    },
    {
      "cell_type": "code",
      "source": [
        "## 변화율로 절편 업데이트\n",
        "\n",
        "b_inc = b + 0.1\n",
        "y_hat_inc = x[0]*w + b_inc\n",
        "print(y_hat_inc)"
      ],
      "metadata": {
        "colab": {
          "base_uri": "https://localhost:8080/"
        },
        "id": "_wHRbxilyriH",
        "outputId": "d4651361-73a9-4f11-9ee3-de91694c0e08"
      },
      "execution_count": null,
      "outputs": [
        {
          "output_type": "stream",
          "name": "stdout",
          "text": [
            "2.053875694290768\n"
          ]
        }
      ]
    },
    {
      "cell_type": "code",
      "source": [
        "b_rate = (y_hat_inc - y_hat) / (b_inc - b)\n",
        "print(b_rate)\n",
        "\n",
        "## b 0.1만큼 증가했을때 y_hat의 변화율"
      ],
      "metadata": {
        "colab": {
          "base_uri": "https://localhost:8080/"
        },
        "id": "1T5HQKkMzukC",
        "outputId": "a5d75d5a-a42d-413f-c018-91f4a1af7af4"
      },
      "execution_count": null,
      "outputs": [
        {
          "output_type": "stream",
          "name": "stdout",
          "text": [
            "1.0\n"
          ]
        }
      ]
    },
    {
      "cell_type": "code",
      "source": [
        "b_new = b+1 ## 이때 1을 더하는 이유는 변화율이 단순히 1이기 때문\n",
        "print(b_new)"
      ],
      "metadata": {
        "colab": {
          "base_uri": "https://localhost:8080/"
        },
        "id": "nKjpTC8-z1Ix",
        "outputId": "b427808d-c176-482f-b6b2-088ee7341c58"
      },
      "execution_count": null,
      "outputs": [
        {
          "output_type": "stream",
          "name": "stdout",
          "text": [
            "2.0\n"
          ]
        }
      ]
    },
    {
      "cell_type": "code",
      "source": [
        "err = y[0] - y_hat\n",
        "w_new = w + w_rate * err\n",
        "b_new = b + 1 * err\n",
        "print(w_new, b_new)\n",
        "\n",
        "## 오차역전파는 y_hat과 y의 차이를 이용해 w와 b를 업데이트"
      ],
      "metadata": {
        "colab": {
          "base_uri": "https://localhost:8080/"
        },
        "id": "tavGeCVw0CSv",
        "outputId": "b0c9862b-a974-47dc-ccf2-b4dace7804e4"
      },
      "execution_count": null,
      "outputs": [
        {
          "output_type": "stream",
          "name": "stdout",
          "text": [
            "-1.4679383409839404 -1.5872745848911878\n"
          ]
        }
      ]
    },
    {
      "cell_type": "code",
      "source": [
        "y_hat = x[1] * w_new + b_new\n",
        "err = y[1] - y_hat\n",
        "w_rate = x[1]\n",
        "w_new = w_new + w_rate * err\n",
        "b_new = b_new + 1 * err\n",
        "print(w_new, b_new)\n",
        "\n",
        "### 이 논리만 이해하면 끝인데 다시 한번 읽어보자!!"
      ],
      "metadata": {
        "colab": {
          "base_uri": "https://localhost:8080/"
        },
        "id": "dpj7uFA70php",
        "outputId": "a5223599-7cd9-47b6-d9ef-8b796dc55d2f"
      },
      "execution_count": null,
      "outputs": [
        {
          "output_type": "stream",
          "name": "stdout",
          "text": [
            "-1.0383771549978311 0.6411125784946314\n"
          ]
        }
      ]
    },
    {
      "cell_type": "code",
      "source": [
        "for x_i, y_i in zip(x,y):  ## zip함수는 여러개 배열중 동시에 요소를 하나씩 꺼내주는 것\n",
        "  y_hat = x_i * w + b\n",
        "  err = y_i - y_hat\n",
        "  w_rate = x_i\n",
        "  w = w + w_rate * err\n",
        "  b = b + 1 * err\n",
        "print(w, b)"
      ],
      "metadata": {
        "colab": {
          "base_uri": "https://localhost:8080/"
        },
        "id": "T4Jxo3011SLL",
        "outputId": "8d1b7281-9644-4480-98b0-9c65f36af964"
      },
      "execution_count": null,
      "outputs": [
        {
          "output_type": "stream",
          "name": "stdout",
          "text": [
            "0.6507044587358646 -0.40680627668824343\n"
          ]
        }
      ]
    },
    {
      "cell_type": "code",
      "source": [
        "plt.scatter(x, y)\n",
        "pt1 = (-0.1, -0.1 * w + b)\n",
        "pt2 = (0.15, 0.15 * w + b)\n",
        "plt.plot([pt1[0],pt2[1],pt2[1]])\n",
        "plt.xlabel('x')\n",
        "plt.ylabel('y')\n",
        "plt.show()"
      ],
      "metadata": {
        "colab": {
          "base_uri": "https://localhost:8080/",
          "height": 279
        },
        "id": "XSYSbOjN15RJ",
        "outputId": "93783a49-ea4d-4093-f1fd-eaa24263a2e3"
      },
      "execution_count": null,
      "outputs": [
        {
          "output_type": "display_data",
          "data": {
            "image/png": "[encoded data removed]",
            "text/plain": [
              "<Figure size 432x288 with 1 Axes>"
            ]
          },
          "metadata": {
            "needs_background": "light"
          }
        }
      ]
    },
    {
      "cell_type": "code",
      "source": [
        "## 여러 에포크를 반복하기\n",
        "\n",
        "for i in range(1, 100):\n",
        "  for x_i, y_i in zip(x,y):\n",
        "    y_hat = x_i * w + b\n",
        "    err = y_i - y_hat\n",
        "    w_rate = x_i\n",
        "    w = w + w_rate * err\n",
        "    b = b + 1 * err\n",
        "\n",
        "print(w,b)\n",
        "\n",
        "## 100번의 에포크를 반복한 결과가 아래값"
      ],
      "metadata": {
        "colab": {
          "base_uri": "https://localhost:8080/"
        },
        "id": "rfEopXp12_nz",
        "outputId": "f07720d2-fbc2-4059-970e-667fd512427a"
      },
      "execution_count": null,
      "outputs": [
        {
          "output_type": "stream",
          "name": "stdout",
          "text": [
            "0.6507044587358646 -0.40680627668824343\n"
          ]
        }
      ]
    },
    {
      "cell_type": "code",
      "source": [
        "plt.scatter(x,y)\n",
        "pt1 = (-0.1, -0.1*w + b)\n",
        "pt2 = (0.15, 0.15*w + b)\n",
        "plt.plot([pt1[0],pt2[0],pt1[1],pt2[1]])\n",
        "plt.xlabel('x')\n",
        "plt.ylabel('y')\n",
        "plt.show()"
      ],
      "metadata": {
        "colab": {
          "base_uri": "https://localhost:8080/",
          "height": 279
        },
        "id": "dz2Z_mQJ3ejo",
        "outputId": "ffd41685-7ff2-497e-8408-c7b0425ea279"
      },
      "execution_count": null,
      "outputs": [
        {
          "output_type": "display_data",
          "data": {
            "image/png": "[encoded data removed]",
            "text/plain": [
              "<Figure size 432x288 with 1 Axes>"
            ]
          },
          "metadata": {
            "needs_background": "light"
          }
        }
      ]
    },
    {
      "cell_type": "code",
      "source": [
        "## 모델로 예측하기\n",
        "\n",
        "x_new = 0.18\n",
        "y_pred = x_new*w + b\n",
        "print(y_pred)"
      ],
      "metadata": {
        "colab": {
          "base_uri": "https://localhost:8080/"
        },
        "id": "txQTJ7WO32Ji",
        "outputId": "4c350d79-0bbb-44eb-af78-f1067e88369f"
      },
      "execution_count": null,
      "outputs": [
        {
          "output_type": "stream",
          "name": "stdout",
          "text": [
            "-0.2896794741157878\n"
          ]
        }
      ]
    },
    {
      "cell_type": "code",
      "source": [
        "plt.scatter(x,y)\n",
        "plt.scatter(x_new, y_pred)\n",
        "plt.xlabel('x')\n",
        "plt.ylabel('y')\n",
        "plt.show()"
      ],
      "metadata": {
        "colab": {
          "base_uri": "https://localhost:8080/",
          "height": 247
        },
        "id": "bRQ0AuM-4Hak",
        "outputId": "f47702be-7d7c-417a-d5a9-defcac7b83ee"
      },
      "execution_count": null,
      "outputs": [
        {
          "output_type": "error",
          "ename": "NameError",
          "evalue": "ignored",
          "traceback": [
            "\u001b[0;31m---------------------------------------------------------------------------\u001b[0m",
            "\u001b[0;31mNameError\u001b[0m                                 Traceback (most recent call last)",
            "\u001b[0;32m<ipython-input-1-5ced5078d8f5>\u001b[0m in \u001b[0;36m<module>\u001b[0;34m()\u001b[0m\n\u001b[0;32m----> 1\u001b[0;31m \u001b[0mplt\u001b[0m\u001b[0;34m.\u001b[0m\u001b[0mscatter\u001b[0m\u001b[0;34m(\u001b[0m\u001b[0mx\u001b[0m\u001b[0;34m,\u001b[0m\u001b[0my\u001b[0m\u001b[0;34m)\u001b[0m\u001b[0;34m\u001b[0m\u001b[0;34m\u001b[0m\u001b[0m\n\u001b[0m\u001b[1;32m      2\u001b[0m \u001b[0mplt\u001b[0m\u001b[0;34m.\u001b[0m\u001b[0mscatter\u001b[0m\u001b[0;34m(\u001b[0m\u001b[0mx_new\u001b[0m\u001b[0;34m,\u001b[0m \u001b[0my_pred\u001b[0m\u001b[0;34m)\u001b[0m\u001b[0;34m\u001b[0m\u001b[0;34m\u001b[0m\u001b[0m\n\u001b[1;32m      3\u001b[0m \u001b[0mplt\u001b[0m\u001b[0;34m.\u001b[0m\u001b[0mxlabel\u001b[0m\u001b[0;34m(\u001b[0m\u001b[0;34m'x'\u001b[0m\u001b[0;34m)\u001b[0m\u001b[0;34m\u001b[0m\u001b[0;34m\u001b[0m\u001b[0m\n\u001b[1;32m      4\u001b[0m \u001b[0mplt\u001b[0m\u001b[0;34m.\u001b[0m\u001b[0mylabel\u001b[0m\u001b[0;34m(\u001b[0m\u001b[0;34m'y'\u001b[0m\u001b[0;34m)\u001b[0m\u001b[0;34m\u001b[0m\u001b[0;34m\u001b[0m\u001b[0m\n\u001b[1;32m      5\u001b[0m \u001b[0mplt\u001b[0m\u001b[0;34m.\u001b[0m\u001b[0mshow\u001b[0m\u001b[0;34m(\u001b[0m\u001b[0;34m)\u001b[0m\u001b[0;34m\u001b[0m\u001b[0;34m\u001b[0m\u001b[0m\n",
            "\u001b[0;31mNameError\u001b[0m: name 'plt' is not defined"
          ]
        }
      ]
    },
    {
      "cell_type": "code",
      "source": [
        "from sklearn.datasets import load_breast_cancer\n",
        "cancer = load_breast_cancer()"
      ],
      "metadata": {
        "id": "CHjZmq_I4RO8"
      },
      "execution_count": null,
      "outputs": []
    },
    {
      "cell_type": "code",
      "source": [
        "print(cancer.data.shape, cancer.target.shape) ##입력데이터의 크기\n",
        "\n",
        "## 569개의 샘플과 30개의 특성이 있음. 다시말해, 하나의 샘플에 30개의 특성이 있는것"
      ],
      "metadata": {
        "colab": {
          "base_uri": "https://localhost:8080/"
        },
        "id": "k4oYNrb48859",
        "outputId": "7bbb10d7-034d-4a74-cb1d-cb6d5d98b37b"
      },
      "execution_count": null,
      "outputs": [
        {
          "output_type": "stream",
          "name": "stdout",
          "text": [
            "(569, 30) (569,)\n"
          ]
        }
      ]
    },
    {
      "cell_type": "code",
      "source": [
        "cancer.data[:3]"
      ],
      "metadata": {
        "colab": {
          "base_uri": "https://localhost:8080/"
        },
        "id": "w4myEeOJ9BCO",
        "outputId": "1e57b4d8-2bdd-459b-bc11-a5d2a6bc49d9"
      },
      "execution_count": null,
      "outputs": [
        {
          "output_type": "execute_result",
          "data": {
            "text/plain": [
              "array([[1.799e+01, 1.038e+01, 1.228e+02, 1.001e+03, 1.184e-01, 2.776e-01,\n",
              "        3.001e-01, 1.471e-01, 2.419e-01, 7.871e-02, 1.095e+00, 9.053e-01,\n",
              "        8.589e+00, 1.534e+02, 6.399e-03, 4.904e-02, 5.373e-02, 1.587e-02,\n",
              "        3.003e-02, 6.193e-03, 2.538e+01, 1.733e+01, 1.846e+02, 2.019e+03,\n",
              "        1.622e-01, 6.656e-01, 7.119e-01, 2.654e-01, 4.601e-01, 1.189e-01],\n",
              "       [2.057e+01, 1.777e+01, 1.329e+02, 1.326e+03, 8.474e-02, 7.864e-02,\n",
              "        8.690e-02, 7.017e-02, 1.812e-01, 5.667e-02, 5.435e-01, 7.339e-01,\n",
              "        3.398e+00, 7.408e+01, 5.225e-03, 1.308e-02, 1.860e-02, 1.340e-02,\n",
              "        1.389e-02, 3.532e-03, 2.499e+01, 2.341e+01, 1.588e+02, 1.956e+03,\n",
              "        1.238e-01, 1.866e-01, 2.416e-01, 1.860e-01, 2.750e-01, 8.902e-02],\n",
              "       [1.969e+01, 2.125e+01, 1.300e+02, 1.203e+03, 1.096e-01, 1.599e-01,\n",
              "        1.974e-01, 1.279e-01, 2.069e-01, 5.999e-02, 7.456e-01, 7.869e-01,\n",
              "        4.585e+00, 9.403e+01, 6.150e-03, 4.006e-02, 3.832e-02, 2.058e-02,\n",
              "        2.250e-02, 4.571e-03, 2.357e+01, 2.553e+01, 1.525e+02, 1.709e+03,\n",
              "        1.444e-01, 4.245e-01, 4.504e-01, 2.430e-01, 3.613e-01, 8.758e-02]])"
            ]
          },
          "metadata": {},
          "execution_count": 5
        }
      ]
    },
    {
      "cell_type": "code",
      "source": [
        "import matplotlib.pyplot as plt\n",
        "\n",
        "plt.boxplot(cancer.data)\n",
        "plt.xlabel('feature')\n",
        "plt.ylabel('value')\n",
        "plt.show()\n",
        "\n",
        "## 이때 boxplot은 1사분위와 3사분위의 값으로 상자를 그린다음 2사분위 값을 표시함. 그리고 1사분위, 3사분위의 1.5배만큼 위아래 거리에서 각각 가장 큰값과 가장 작은값까지 수염을 그림"
      ],
      "metadata": {
        "colab": {
          "base_uri": "https://localhost:8080/",
          "height": 279
        },
        "id": "Mg63YZ179Rhz",
        "outputId": "5b252ef9-9a41-44d6-d986-dafc68699549"
      },
      "execution_count": null,
      "outputs": [
        {
          "output_type": "display_data",
          "data": {
            "image/png": "[encoded data removed]",
            "text/plain": [
              "<Figure size 432x288 with 1 Axes>"
            ]
          },
          "metadata": {
            "needs_background": "light"
          }
        }
      ]
    },
    {
      "cell_type": "code",
      "source": [
        "from sklearn.model_selection import train_test_split"
      ],
      "metadata": {
        "id": "3lsULh319l3A"
      },
      "execution_count": null,
      "outputs": []
    },
    {
      "cell_type": "code",
      "source": [
        "x = cancer.data\n",
        "y = cancer.target\n",
        "\n",
        "x_train, x_text, y_train, y_test = train_test_split(x, y, stratify=y, test_size=0.2, random_state=42)"
      ],
      "metadata": {
        "id": "OdBIQaU6-fXK"
      },
      "execution_count": null,
      "outputs": []
    },
    {
      "cell_type": "code",
      "source": [
        "print(x_train.shape, x_text.shape)"
      ],
      "metadata": {
        "colab": {
          "base_uri": "https://localhost:8080/"
        },
        "id": "OasBP7T7-sEt",
        "outputId": "971a281c-94c2-48d6-e2e9-1ab8ac2191f6"
      },
      "execution_count": null,
      "outputs": [
        {
          "output_type": "stream",
          "name": "stdout",
          "text": [
            "(455, 30) (114, 30)\n"
          ]
        }
      ]
    },
    {
      "cell_type": "code",
      "source": [
        "import numpy as np\n",
        "\n",
        "np.unique(y_train, return_counts=True)"
      ],
      "metadata": {
        "colab": {
          "base_uri": "https://localhost:8080/"
        },
        "id": "k1V0pvGu-25-",
        "outputId": "b9d995e0-ba3e-4446-bb8e-cc1345f0d245"
      },
      "execution_count": null,
      "outputs": [
        {
          "output_type": "execute_result",
          "data": {
            "text/plain": [
              "(array([0, 1]), array([170, 285]))"
            ]
          },
          "metadata": {},
          "execution_count": 15
        }
      ]
    },
    {
      "cell_type": "code",
      "source": [
        "class LogisticNeuron:\n",
        "\n",
        "  def __init__(self):\n",
        "    self.w = None\n",
        "    self.b = None\n",
        "\n",
        "  def forpass(self, x):\n",
        "    z = np.sum(x * self.w) + self.b\n",
        "    return zip\n",
        "      \n",
        "  def backprop(self, x, err):\n",
        "    w_grad = x * err\n",
        "    b_glad = 1 * err\n",
        "    return w_grad, b_grad\n",
        "\n",
        "    "
      ],
      "metadata": {
        "id": "SK0PAGCQ-7dD"
      },
      "execution_count": null,
      "outputs": []
    },
    {
      "cell_type": "code",
      "source": [
        "## 로지스틱 회귀로 모델 훈련하고 평가하기\n",
        "\n",
        "from sklearn.datasets import load_breast_cancer\n",
        "from sklearn.model_selection import train_test_split\n",
        "cancer = load_breast_cancer()\n",
        "x = cancer.data\n",
        "y = cancer.target\n",
        "x_train_all, x_test, y_train_all, y_test = train_test_split(x, y, stratify=y, test_size=0.2, random_state=42)"
      ],
      "metadata": {
        "id": "vatTfdHv_WbM"
      },
      "execution_count": null,
      "outputs": []
    },
    {
      "cell_type": "code",
      "source": [
        "from sklearn.linear_model import SGDClassifier ## 로지스틱 회귀모델 훈련\n",
        "sgd = SGDClassifier(loss = 'log', random_state = 42) ## los의 값은 사용자가 직접 선택할 수 있는 하이퍼파라미터\n",
        "sgd.fit(x_train_all, y_train_all) ## fit 메소드에 모델을 훈련\n",
        "sgd.score(x_test, y_test)\n",
        "\n",
        "## 테스트셋의 정확도는 83%"
      ],
      "metadata": {
        "colab": {
          "base_uri": "https://localhost:8080/"
        },
        "id": "otixYZ_IypB3",
        "outputId": "2ffd9c9c-f651-4121-d126-4171dc8fc69b"
      },
      "execution_count": null,
      "outputs": [
        {
          "output_type": "execute_result",
          "data": {
            "text/plain": [
              "0.8333333333333334"
            ]
          },
          "metadata": {},
          "execution_count": 4
        }
      ]
    },
    {
      "cell_type": "code",
      "source": [
        "from sklearn.linear_model import SGDClassifier\n",
        "sgd = SGDClassifier(loss = 'hinge', random_state = 42) ## log를 hinge로 바꾸어 SVM(서포트벡터머신)으로 문제를 풀었음\n",
        "sgd.fit(x_train_all, y_train_all)\n",
        "sgd.score(x_test, y_test)\n",
        "\n",
        "## 이런식으로 클래스의 다른 매개변수를 바꾸는 과정을 모델을 튜닝한다고 명명"
      ],
      "metadata": {
        "colab": {
          "base_uri": "https://localhost:8080/"
        },
        "id": "VAKEIqShzJLu",
        "outputId": "fe086acf-d240-4288-e2e5-bc69c9adc02b"
      },
      "execution_count": null,
      "outputs": [
        {
          "output_type": "execute_result",
          "data": {
            "text/plain": [
              "0.9385964912280702"
            ]
          },
          "metadata": {},
          "execution_count": 5
        }
      ]
    },
    {
      "cell_type": "code",
      "source": [
        "## 테스트 세트로 모델을 튜닝하면 좋은 성능을 기대하기 어려움. 모의고사를 푼 아이에게 비슷한 모의고사를 풀게하는 꼴이되므로\n",
        "## 따라서 검증세트가 필요함 => 즉, 검증세트는 모델을 튜닝하는 용도의 세트를 의미"
      ],
      "metadata": {
        "id": "-Sg464JDz5fv"
      },
      "execution_count": null,
      "outputs": []
    },
    {
      "cell_type": "code",
      "source": [
        "from sklearn.datasets import load_breast_cancer\n",
        "from sklearn.model_selection import train_test_split\n",
        "cancer = load_breast_cancer()\n",
        "x = cancer.data\n",
        "y = cancer.target\n",
        "x_train_all, x_test, y_train_all, y_test = train_test_split(x, y, stratify=y, test_size=0.2, random_state=42)\n",
        "\n",
        "## 훈련데이터 : 테스트데이터 = 8 : 2"
      ],
      "metadata": {
        "id": "-HX18Gwf0XIC"
      },
      "execution_count": null,
      "outputs": []
    },
    {
      "cell_type": "code",
      "source": [
        "x_train, x_val, y_train, y_val = train_test_split(x_train_all, y_train_all, stratify=y_train_all, test_size=0.2, random_state = 42)\n",
        "print(len(x_train), len(x_val))\n",
        "\n",
        "## 훈련데이터내에서 훈련데이터와 : 검증데이터 = 8 : 2"
      ],
      "metadata": {
        "colab": {
          "base_uri": "https://localhost:8080/"
        },
        "id": "ZUGmPN_V0p4V",
        "outputId": "168ba8f0-3610-4e1e-a06a-d65ce1aa8b9e"
      },
      "execution_count": null,
      "outputs": [
        {
          "output_type": "stream",
          "name": "stdout",
          "text": [
            "364 91\n"
          ]
        }
      ]
    },
    {
      "cell_type": "code",
      "source": [
        "import matplotlib.pyplot as plt ## 그래프그리기\n",
        "\n",
        "print(cancer.feature_names[[2,3]])\n",
        "plt.boxplot(x_train[:, 2:4])\n",
        "plt.xlabel('feature')\n",
        "plt.ylabel('value')\n",
        "plt.show()\n",
        "\n",
        "## mean perimeter는 100~200사이에 위치, mean area는 200~2000사이에 위치. 즉, 스케일이 다름"
      ],
      "metadata": {
        "colab": {
          "base_uri": "https://localhost:8080/",
          "height": 297
        },
        "id": "AnB6lRy51-BY",
        "outputId": "8019513d-03f8-4295-871e-93c63c425d12"
      },
      "execution_count": null,
      "outputs": [
        {
          "output_type": "stream",
          "name": "stdout",
          "text": [
            "['mean perimeter' 'mean area']\n"
          ]
        },
        {
          "output_type": "display_data",
          "data": {
            "image/png": "[encoded data removed]",
            "text/plain": [
              "<Figure size 432x288 with 1 Axes>"
            ]
          },
          "metadata": {
            "needs_background": "light"
          }
        }
      ]
    },
    {
      "cell_type": "code",
      "source": [
        "def __init__(self, learning_rate=0.1):\n",
        "  self.w = None\n",
        "  self.b = None\n",
        "  self.losses = []\n",
        "  self.w_history = []\n",
        "  self.lr = learning_rate "
      ],
      "metadata": {
        "id": "Ab3PYcr42U0I"
      },
      "execution_count": null,
      "outputs": []
    },
    {
      "cell_type": "code",
      "source": [
        "def fit(self, x, y, epochs=100):\n",
        "  self.w = np.ones(x.shape[1])\n",
        "  self.b = 0\n",
        "  self.w_history.append(self.w.copy())\n",
        "  np.random.seed(42)\n",
        "  for i in range(epochs):\n",
        "    loss = 0\n",
        "    indexes = np.random.permutation(np.range(len(x)))\n",
        "    for i in indexes:\n",
        "      z = self.forpass(x[i])\n",
        "      a = self.activation(z)\n",
        "      err = -(y[i] - a)\n",
        "      w_grad, b_grad = self.backprop(x[i], err)\n",
        "      self.w -= self.lr*w_grad\n",
        "      self.b -= b_grad\n",
        "      self.w_history.append(self.w.copy())\n",
        "      a = np.clip(a, 1e-10, 1-1e-10)\n",
        "      loss += -(y[i]*np.log(a)+(1-y[i])*np.log(1-a))\n",
        "    self.losses,append(loss/len(y))"
      ],
      "metadata": {
        "id": "Gj7H9jUM3Sbb"
      },
      "execution_count": null,
      "outputs": []
    },
    {
      "cell_type": "code",
      "source": [
        "## 스케일 조정해 모델을 훈련하기\n",
        "\n",
        "## 표준화(standardization). 특성값에서 평균을 빼고 표준편차로 나누면 됨. 이를통해 평균이 0이고, 분산이 1인 특성이 만들어짐"
      ],
      "metadata": {
        "id": "Qs9FvhFh41Lm"
      },
      "execution_count": null,
      "outputs": []
    },
    {
      "cell_type": "code",
      "source": [
        "import numpy as np\n",
        "train_mean = np.mean(x_train, axis=0)\n",
        "train_std = np.std(x_train, axis=0)\n",
        "x_train_scaled = (x_train - train_mean) / train_std"
      ],
      "metadata": {
        "id": "LcNmMG6R4_bs"
      },
      "execution_count": null,
      "outputs": []
    },
    {
      "cell_type": "code",
      "source": [
        "## 원본 훈련 데이터세트와 검증세트로 산점도 그리기\n",
        "\n",
        "plt.plot(x_train[:50,0], x_train[:50,1], 'bo')\n",
        "plt.plot(x_val[:50,0], x_val[:50,1], 'ro')\n",
        "plt.xlabel('feature 1')\n",
        "plt.ylabel('feature 2')\n",
        "plt.legend(['train set', 'val. set'])\n",
        "plt.show()"
      ],
      "metadata": {
        "colab": {
          "base_uri": "https://localhost:8080/",
          "height": 279
        },
        "id": "rwSyygnx5rAQ",
        "outputId": "0cfa8908-0af6-4a3f-eeda-9be621c455af"
      },
      "execution_count": null,
      "outputs": [
        {
          "output_type": "display_data",
          "data": {
            "image/png": "[encoded data removed]",
            "text/plain": [
              "<Figure size 432x288 with 1 Axes>"
            ]
          },
          "metadata": {
            "needs_background": "light"
          }
        }
      ]
    },
    {
      "cell_type": "code",
      "source": [
        "## 과대적합과 과소적합\n",
        "\n",
        "## 과대적합 : 모델이 훈련셋에서는 좋은 성능을 내지만 검증셋에서는 낮은 성능을 내는 경우\n",
        "## 과소적합 : 모델이 훈련셋과 검증셋 모두에서 낮은 성능을 내는 경우\n",
        "\n",
        "## => 이때 포인트는 '훈련', '검증'\n",
        "\n",
        "## 과대적합 : 분산이 크다\n",
        "## 과소적합 : 편향이 크다\n",
        "\n",
        "## 과대적합\n",
        "# (1) 훈련셋에 다양한 패턴의 샘플이 없는 경우\n",
        "# (2) 모델의 복잡도를 낮춰야함\n",
        "\n",
        "## 과소적합\n",
        "# (1) 모델이 충분하지 않아 훈련 데이터 패턴을 다 못잡아내는 경우\n",
        "# (2) 복잡도가 더 높은 모델을 사용해 가중치의 규제를 완화해야함"
      ],
      "metadata": {
        "id": "ppHwH_zL55fu"
      },
      "execution_count": null,
      "outputs": []
    },
    {
      "cell_type": "code",
      "source": [
        "## 가중치규제(regularization) : 가중치값이 커지지 않도록 제한하는 기법. 가중치를 규제하면 모델의 성능이 올라감\n",
        "## 모델이 몇 개의 데이터에 집착하면 새로운 데이터에 적응을 못하므로 좋은 성능을 가졌다고 할 수 없음\n",
        "## 이럴때 규제를 사용해 가중치를 제한하면 모델이 몇 개의 데이터에 집착하지 않게 되므로 일반화 성능을 높일 수 있음"
      ],
      "metadata": {
        "id": "aiMQfBIc6nzC"
      },
      "execution_count": null,
      "outputs": []
    },
    {
      "cell_type": "code",
      "source": [
        ""
      ],
      "metadata": {
        "id": "x50Ts5PR74fe"
      },
      "execution_count": null,
      "outputs": []
    },
    {
      "cell_type": "markdown",
      "source": [
        "일반화 성능을 높일 수 있는 방법에 대한 소개가 나옴\n",
        "\n",
        "L1 규제 -> 회귀모델에 L1규제 적용하면 라쏘(Lasso)\n",
        "\n",
        "L2 규제 -> 회귀모델에 L2규제 적용하면 릿지(Ridge)\n",
        "\n",
        "쉽게 생각해, 경사하강법에 L1, L2 규제를 추가하는 것"
      ],
      "metadata": {
        "id": "xl0_Xcob75PH"
      }
    },
    {
      "cell_type": "code",
      "source": [
        ""
      ],
      "metadata": {
        "id": "U9QlsCVY7533"
      },
      "execution_count": null,
      "outputs": []
    },
    {
      "cell_type": "markdown",
      "source": [
        "교차검증(cross validation)은 훈련셋을 작은 덩어리로 나누어 교차로 검증하는것을 의미\n",
        "\n",
        "k개의 폴드로 나누는 특징이 있어 'k-폴드 교차 검증'이라고 부름"
      ],
      "metadata": {
        "id": "TFJbsoPJ8lpB"
      }
    },
    {
      "cell_type": "code",
      "source": [
        "from sklearn.tree import DecisionTreeClassifier\n",
        "from sklearn.datasets import load_iris\n",
        "from sklearn.metrics import accuracy_score\n",
        "from sklearn.model_selection import KFold\n",
        "import numpy as np\n",
        "\n",
        "iris = load_iris()\n",
        "features = iris.data\n",
        "label = iris.target\n",
        "dt_clf = DecisionTreeClassifier(random_state=156)\n",
        "\n",
        "# 5개의 폴드 세트로 분리하는 KFold 객체와 폴드 세트별 정확도를 담을 리스트 생성\n",
        "kfold = KFold(n_splits=5)\n",
        "cv_accuracy = []\n",
        "\n",
        "print('원본 붓꽃 데이터 세트 크기: ',features.shape[0])"
      ],
      "metadata": {
        "colab": {
          "base_uri": "https://localhost:8080/"
        },
        "id": "cn5s7Vx084Tp",
        "outputId": "0f4dcd61-ea90-4a36-ed64-23e5f994897a"
      },
      "execution_count": null,
      "outputs": [
        {
          "output_type": "stream",
          "name": "stdout",
          "text": [
            "원본 붓꽃 데이터 세트 크기:  150\n"
          ]
        }
      ]
    },
    {
      "cell_type": "code",
      "source": [
        "##### 클래스 init self에 대한 이해\n",
        "\n",
        "class tesla: ## 클래스\n",
        "  def car(self):\n",
        "    self.name = '레드블루'\n",
        "    self.color = '빨강'\n",
        "    print('테슬라 자동차 이름은', self.name, '색깔은', self.color)"
      ],
      "metadata": {
        "id": "MGrDQI4k-hRK"
      },
      "execution_count": null,
      "outputs": []
    },
    {
      "cell_type": "code",
      "source": [
        "modelY = tesla() ## 인스턴스 생성\n",
        "modelY.car()\n",
        "\n",
        "## self는 클래스의 인스턴스를 지칭. 즉, 메소드를 호출한 현재 객체를 의미함"
      ],
      "metadata": {
        "colab": {
          "base_uri": "https://localhost:8080/"
        },
        "id": "TvWG_DbsBNYJ",
        "outputId": "e81f349a-75f8-43f4-ca73-4671bc869db4"
      },
      "execution_count": null,
      "outputs": [
        {
          "output_type": "stream",
          "name": "stdout",
          "text": [
            "테슬라 자동차 이름은 레드블루 색깔은 빨강\n"
          ]
        }
      ]
    },
    {
      "cell_type": "code",
      "source": [
        "class Car:\n",
        "  def __init__(self, name, price): ## 초기화를 나타내는게 init 메소드 ## self는 클래스 자기자신\n",
        "    self.name = name ## 매개변수로부터 받은 name이 오른쪽\n",
        "    self.price = price\n",
        "  def info(self): ## 자동차 클래스 정보를 출력하는 메소드를 의미\n",
        "    print('자동차 이름은', self.name, '가격은', self.price,'만원')"
      ],
      "metadata": {
        "id": "7BRetSelBWLr"
      },
      "execution_count": null,
      "outputs": []
    },
    {
      "cell_type": "code",
      "source": [
        "car1 = Car('테슬라X', 5000) ## car1 인스턴스 생성\n",
        "car2 = Car('테슬라Y', 6000) ## car2 인스턴스 생성\n",
        "car3 = Car('테슬라Z', 7000)\n",
        "\n",
        "car1. info()\n",
        "car2. info()\n",
        "car3. info()"
      ],
      "metadata": {
        "colab": {
          "base_uri": "https://localhost:8080/"
        },
        "id": "Qq0WQ6yXBgFO",
        "outputId": "90491494-62c0-4170-8150-37ef2ebb0467"
      },
      "execution_count": null,
      "outputs": [
        {
          "output_type": "stream",
          "name": "stdout",
          "text": [
            "자동차 이름은 테슬라X 가격은 5000 만원\n",
            "자동차 이름은 테슬라Y 가격은 6000 만원\n",
            "자동차 이름은 테슬라Z 가격은 7000 만원\n"
          ]
        }
      ]
    },
    {
      "cell_type": "code",
      "source": [
        "print(car1.name)\n",
        "print(car2.name)\n",
        "print(car3.name)\n",
        "print(car1.price)\n",
        "print(car2.price)\n",
        "print(car3.price)"
      ],
      "metadata": {
        "colab": {
          "base_uri": "https://localhost:8080/"
        },
        "id": "03SZXBMfDNJV",
        "outputId": "2aa70630-468e-43b9-c7c6-046aea58c4cd"
      },
      "execution_count": null,
      "outputs": [
        {
          "output_type": "stream",
          "name": "stdout",
          "text": [
            "테슬라X\n",
            "테슬라Y\n",
            "테슬라Z\n",
            "5000\n",
            "6000\n",
            "7000\n"
          ]
        }
      ]
    },
    {
      "cell_type": "code",
      "source": [
        "import numpy as np\n",
        "# z = np.sum(x * self.w) + self.b\n",
        "# z = np.dot(x, self.w) + self.b 로 간단하게 표현됨\n"
      ],
      "metadata": {
        "id": "Xkfr91AXEs9f"
      },
      "execution_count": null,
      "outputs": []
    },
    {
      "cell_type": "markdown",
      "source": [
        "- 넘파이, 머신러닝, 딥러닝 패키지들은 다차원 배열의 계산을 빠르게 수행할 수 있음\n",
        "- 벡터화된 연산을 사용하면 알고리즘 성능 높일 수 있음\n",
        "- 경사하강법의 경우 가중치 1번 업데이트할때 사용되는 데이터의 개수가 많으므로 알고리즘 1번 수행당 계산비용이 많이 든다는 한계점 존재"
      ],
      "metadata": {
        "id": "a0DWlUZ4SgB4"
      }
    },
    {
      "cell_type": "code",
      "source": [
        "import numpy as np\n",
        "import matplotlib.pyplot as plt"
      ],
      "metadata": {
        "id": "jHwKePoGStOL"
      },
      "execution_count": null,
      "outputs": []
    },
    {
      "cell_type": "code",
      "source": [
        "# from sklearn.datasets import load_breast_cancer\n",
        "# from sklearn.model_selection import train_test_split\n",
        "\n",
        "# cancer = load_breast_cancer()\n",
        "# x = cancer.data\n",
        "# y = load_breast_cancer\n",
        "# x_train_all, x_test, y_train_all, y_test = train_test_split(x, y, stratify=y, test_size = 0.2, random_state=42)\n",
        "# x_train_all, x_val, y_train, y_val = train_test_split(x_train_all, y_train_all, stratify=y_train_all, test_size = 0.2, random_state = 42)"
      ],
      "metadata": {
        "id": "8tI3i0JiTilB"
      },
      "execution_count": null,
      "outputs": []
    },
    {
      "cell_type": "markdown",
      "source": [
        "- forpass() 함수로 계산하고 \n",
        "- backprop() 함수로 에러를 전달해 업데이트하는 것\n",
        "- fit 메소드로 입출력값과 반복횟수를 넘겨받아 for 루프를 반복"
      ],
      "metadata": {
        "id": "H_ydTQzNUk_s"
      }
    },
    {
      "cell_type": "code",
      "source": [
        "def forpass(self, x):\n",
        "  z = np.dot(x, self.w) + self.b\n",
        "  return z\n",
        "\n",
        "def backprop(self, x, err):\n",
        "  m = len(x)\n",
        "  w_grad = np.dot(x.T, err) / m\n",
        "  b_grad = np.sum(err) / m\n",
        "  return w_grad, b_grad"
      ],
      "metadata": {
        "id": "fXkjD2CgT9_I"
      },
      "execution_count": null,
      "outputs": []
    },
    {
      "cell_type": "code",
      "source": [
        "def fit(self, x, y, epochs=100, x_val = None, y_val = None):\n",
        "  y = y.reshape(-1, 1)\n",
        "  y_val = y_val.reshape(-1,1)\n",
        "  m = len(x)\n",
        "  self.w = np.ones((x.shape[1], 1))\n",
        "  self.b = 0\n",
        "  self.w_history.append(self.w.copy())\n",
        "\n",
        "  for i in range(epochs):\n",
        "    z = self.forpass(x)\n",
        "    a = self.activation(z)\n",
        "    err = -(y - a)\n",
        "    w_grad, b_grad = self.backprop(x, err)\n",
        "    w_grad += (self.l1*np.np.sign(self.w) + self.l2 * self.l2 * self.w) / m\n",
        "    self.w -= self.lr * w_grad\n",
        "    self.b -= self.lr * b_grad\n",
        "    self.w_history.append(self.w.copy())\n",
        "    a = np.clip(a, le-10, 1-le-10)\n",
        "    self.losses.append((loss + self.reg_loss())/m)\n",
        "    self.update_val_loss(x_val, y_val)"
      ],
      "metadata": {
        "id": "rgZfIItLVujT"
      },
      "execution_count": null,
      "outputs": []
    },
    {
      "cell_type": "markdown",
      "source": [
        "- StandardScaler 클래스를 사용해 데이터셋의 특성을 평균이 0, 표쥰편차가 1이 되도록 반환해 볼 수 있음\n",
        "- StandardScaler 클래스로 scaler 객체를 만든다음 fit() 메서드를 통해 변환 규칙을 익히고 transform() 메서드로 데이터를 표준화 전처리함"
      ],
      "metadata": {
        "id": "q4pGsoS7W_B3"
      }
    },
    {
      "cell_type": "code",
      "source": [
        ""
      ],
      "metadata": {
        "id": "LpejMVHKWdXk"
      },
      "execution_count": null,
      "outputs": []
    },
    {
      "cell_type": "markdown",
      "source": [
        "- 활성화 함수는 층마다 다를 수 있지만 한 층에서는 같아야함\n",
        "- 모든 뉴런이 연결되어 있으면 완전 연결 신경망\n",
        "=> 이때 완전 연결 신경망은 데이터흐름이 한쪽 방향으로만 진행되는 특성이 있어 피드 포워드(feed forward) 신경망이라고 부르기도 함"
      ],
      "metadata": {
        "id": "abAgG-EvX-ie"
      }
    },
    {
      "cell_type": "markdown",
      "source": [
        "![image.png](data:image/png;base64,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)![image.png]()"
      ],
      "metadata": {
        "id": "nqZagUEtXRUD"
      }
    },
    {
      "cell_type": "code",
      "source": [
        ""
      ],
      "metadata": {
        "id": "Um-0lxCCX33r"
      },
      "execution_count": null,
      "outputs": []
    },
    {
      "cell_type": "markdown",
      "source": [
        "## 미니 배치 경사하강법 : 조금씩 나누어 정방향 계산을 수행하고 그레디언트를 구해 가중치 업데이트 하는 것\n",
        "#### 작게 나눈 미치 배치만큼 가중치를 업데이트함\n",
        "#### 미니 배치의 크기도 하이퍼파라미터고 튜닝의 대상"
      ],
      "metadata": {
        "id": "RV-O0JjFYTc2"
      }
    },
    {
      "cell_type": "code",
      "source": [
        ""
      ],
      "metadata": {
        "id": "0Is7H576Yefl"
      },
      "execution_count": null,
      "outputs": []
    },
    {
      "cell_type": "markdown",
      "source": [
        "## 은닉층의 크기를 정의하는 hidden_layer_sizes\n",
        "#### 10개 뉴런가진 2개 은닉층 만들려면 hidden_layer_sizes = (10,10)과 같이 설정하면됨\n",
        "\n",
        "## 활성화 함수를 지정하는 activation\n",
        "#### activation 매개변수의 기본값은 ReLU 함수\n",
        "\n",
        "## 배치크기, 학습률 초깃값, 에포크 횟수를 정하는 매개변수\n",
        "#### batch_size, learning_rate_init, max_iterbatch_size"
      ],
      "metadata": {
        "id": "FwMH5MiSau7b"
      }
    },
    {
      "cell_type": "code",
      "source": [
        "from google.colab import drive\n",
        "drive.mount('/content/drive')"
      ],
      "metadata": {
        "id": "Td1p815venVu"
      },
      "execution_count": null,
      "outputs": []
    },
    {
      "cell_type": "code",
      "source": [
        ""
      ],
      "metadata": {
        "id": "EBQXA84GbMtM"
      },
      "execution_count": 17,
      "outputs": []
    }
  ]
}